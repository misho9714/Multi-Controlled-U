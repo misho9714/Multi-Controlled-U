{
 "cells": [
  {
   "cell_type": "code",
   "execution_count": 1,
   "id": "4949ebd7",
   "metadata": {},
   "outputs": [],
   "source": [
    "from qiskit import QuantumCircuit, transpile\n",
    "from qiskit.circuit.library import UnitaryGate\n",
    "from qiskit_aer import Aer\n",
    "from qiskit.visualization import plot_histogram\n",
    "from math import sin, asin, floor, sqrt, pi\n",
    "import numpy as np\n",
    "from scipy.linalg import sqrtm, fractional_matrix_power\n",
    "from qiskit.circuit.library import CRXGate\n",
    "import matplotlib.pyplot as plt\n",
    "from qiskit.quantum_info import Operator"
   ]
  }
 ],
 "metadata": {
  "kernelspec": {
   "display_name": "Python 3",
   "language": "python",
   "name": "python3"
  },
  "language_info": {
   "codemirror_mode": {
    "name": "ipython",
    "version": 3
   },
   "file_extension": ".py",
   "mimetype": "text/x-python",
   "name": "python",
   "nbconvert_exporter": "python",
   "pygments_lexer": "ipython3",
   "version": "3.11.9"
  }
 },
 "nbformat": 4,
 "nbformat_minor": 5
}
