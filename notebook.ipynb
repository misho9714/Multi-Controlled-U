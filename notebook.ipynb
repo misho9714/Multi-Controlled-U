{
 "cells": [
  {
   "cell_type": "code",
   "execution_count": 10,
   "id": "b6cdb513",
   "metadata": {},
   "outputs": [],
   "source": [
    "from qiskit import QuantumCircuit, transpile\n",
    "from qiskit.circuit.library import UnitaryGate\n",
    "from qiskit_aer import Aer\n",
    "from qiskit.visualization import plot_histogram\n",
    "from math import sin, asin, floor, sqrt, pi\n",
    "import numpy as np\n",
    "from scipy.linalg import sqrtm\n",
    "\n",
    "\n"
   ]
  },
  {
   "cell_type": "code",
   "execution_count": 11,
   "id": "c72cbaa0",
   "metadata": {},
   "outputs": [
    {
     "data": {
      "image/png": "[encoded data removed]",
      "text/plain": [
       "<Figure size 352.675x117.056 with 1 Axes>"
      ]
     },
     "execution_count": 11,
     "metadata": {},
     "output_type": "execute_result"
    }
   ],
   "source": [
    "U = np.array([\n",
    "    [1, 0],\n",
    "    [0, -1]\n",
    "])\n",
    "\n",
    "U_sqrt = sqrtm(U)\n",
    "\n",
    "u_gate = UnitaryGate(U, label=\"U\")\n",
    "u_sqrt_gate = UnitaryGate(U_sqrt, label=\"U^(1/2)\")\n",
    "\n",
    "qc = QuantumCircuit(1, name=\"circuit\")\n",
    "qc.append(u_gate, [0])\n",
    "qc.append(u_sqrt_gate, [0])\n",
    "qc.draw(output=\"mpl\")"
   ]
  }
 ],
 "metadata": {
  "kernelspec": {
   "display_name": "Python 3",
   "language": "python",
   "name": "python3"
  },
  "language_info": {
   "codemirror_mode": {
    "name": "ipython",
    "version": 3
   },
   "file_extension": ".py",
   "mimetype": "text/x-python",
   "name": "python",
   "nbconvert_exporter": "python",
   "pygments_lexer": "ipython3",
   "version": "3.11.9"
  }
 },
 "nbformat": 4,
 "nbformat_minor": 5
}
